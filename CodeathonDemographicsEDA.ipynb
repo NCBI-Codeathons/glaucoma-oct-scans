{
  "nbformat": 4,
  "nbformat_minor": 0,
  "metadata": {
    "colab": {
      "name": "CodeathonDemographicsEDA.ipynb",
      "provenance": [],
      "collapsed_sections": []
    },
    "kernelspec": {
      "name": "python3",
      "display_name": "Python 3"
    },
    "language_info": {
      "name": "python"
    }
  },
  "cells": [
    {
      "cell_type": "markdown",
      "metadata": {
        "id": "7FCCPm7WUeGQ"
      },
      "source": [
        "## Loading Data"
      ]
    },
    {
      "cell_type": "code",
      "metadata": {
        "colab": {
          "base_uri": "https://localhost:8080/"
        },
        "id": "lfG7EY9VSlkP",
        "outputId": "54eaf83a-5437-4a08-a33c-5af204775b9b"
      },
      "source": [
        "# Loading Data and Libraries\n",
        "# Loading Data Processing Packages\n",
        "import numpy as np # linear algebra\n",
        "import pandas as pd # data frame manipulation\n",
        "from numpy import nan\n",
        "from numpy import percentile\n",
        "from numpy import isnan\n",
        "from pandas import read_csv\n",
        "from sklearn.impute import SimpleImputer\n",
        "from sklearn.linear_model import Ridge\n",
        "from sklearn.preprocessing import LabelEncoder, OneHotEncoder\n",
        "import warnings\n",
        "warnings.filterwarnings(\"ignore\")\n",
        "from sklearn.preprocessing import MultiLabelBinarizer\n",
        "import random\n",
        "from scipy.stats import chi2_contingency\n",
        "\n",
        "# importing dython for visualization of categorical data\n",
        "!pip install dython\n",
        "from dython import nominal\n",
        "from dython.nominal import associations\n",
        "\n",
        "# Loading Data Visualization Libraries\n",
        "!pip install chart_studio\n",
        "import matplotlib.pyplot as plt\n",
        "%matplotlib inline\n",
        "import seaborn as sns\n",
        "from IPython.display import display\n",
        "!pip install dexplot\n",
        "\n",
        "\n",
        "! pip install statsmodels\n",
        "from statsmodels.multivariate.manova import MANOVA\n",
        "import statsmodels.api as sm\n",
        "from statsmodels.formula.api import ols\n",
        "from scipy import stats\n",
        "import statsmodels.api as sm\n"
      ],
      "execution_count": 1,
      "outputs": [
        {
          "output_type": "stream",
          "text": [
            "Collecting dython\n",
            "  Downloading https://files.pythonhosted.org/packages/8d/cb/40d145b0acb7f5b71dfa272d47699a82f884534579863863d88050a33e11/dython-0.6.5.post1-py3-none-any.whl\n",
            "Requirement already satisfied: numpy in /usr/local/lib/python3.7/dist-packages (from dython) (1.19.5)\n",
            "Requirement already satisfied: scipy in /usr/local/lib/python3.7/dist-packages (from dython) (1.4.1)\n",
            "Collecting scikit-plot>=0.3.7\n",
            "  Downloading https://files.pythonhosted.org/packages/7c/47/32520e259340c140a4ad27c1b97050dd3254fdc517b1d59974d47037510e/scikit_plot-0.3.7-py3-none-any.whl\n",
            "Requirement already satisfied: seaborn in /usr/local/lib/python3.7/dist-packages (from dython) (0.11.1)\n",
            "Requirement already satisfied: scikit-learn in /usr/local/lib/python3.7/dist-packages (from dython) (0.22.2.post1)\n",
            "Requirement already satisfied: pandas>=0.23.4 in /usr/local/lib/python3.7/dist-packages (from dython) (1.1.5)\n",
            "Requirement already satisfied: matplotlib in /usr/local/lib/python3.7/dist-packages (from dython) (3.2.2)\n",
            "Requirement already satisfied: joblib>=0.10 in /usr/local/lib/python3.7/dist-packages (from scikit-plot>=0.3.7->dython) (1.0.1)\n",
            "Requirement already satisfied: python-dateutil>=2.7.3 in /usr/local/lib/python3.7/dist-packages (from pandas>=0.23.4->dython) (2.8.1)\n",
            "Requirement already satisfied: pytz>=2017.2 in /usr/local/lib/python3.7/dist-packages (from pandas>=0.23.4->dython) (2018.9)\n",
            "Requirement already satisfied: kiwisolver>=1.0.1 in /usr/local/lib/python3.7/dist-packages (from matplotlib->dython) (1.3.1)\n",
            "Requirement already satisfied: cycler>=0.10 in /usr/local/lib/python3.7/dist-packages (from matplotlib->dython) (0.10.0)\n",
            "Requirement already satisfied: pyparsing!=2.0.4,!=2.1.2,!=2.1.6,>=2.0.1 in /usr/local/lib/python3.7/dist-packages (from matplotlib->dython) (2.4.7)\n",
            "Requirement already satisfied: six>=1.5 in /usr/local/lib/python3.7/dist-packages (from python-dateutil>=2.7.3->pandas>=0.23.4->dython) (1.15.0)\n",
            "Installing collected packages: scikit-plot, dython\n",
            "Successfully installed dython-0.6.5.post1 scikit-plot-0.3.7\n",
            "Collecting chart_studio\n",
            "\u001b[?25l  Downloading https://files.pythonhosted.org/packages/ca/ce/330794a6b6ca4b9182c38fc69dd2a9cbff60fd49421cb8648ee5fee352dc/chart_studio-1.1.0-py3-none-any.whl (64kB)\n",
            "\u001b[K     |████████████████████████████████| 71kB 3.9MB/s \n",
            "\u001b[?25hRequirement already satisfied: retrying>=1.3.3 in /usr/local/lib/python3.7/dist-packages (from chart_studio) (1.3.3)\n",
            "Requirement already satisfied: six in /usr/local/lib/python3.7/dist-packages (from chart_studio) (1.15.0)\n",
            "Requirement already satisfied: requests in /usr/local/lib/python3.7/dist-packages (from chart_studio) (2.23.0)\n",
            "Requirement already satisfied: plotly in /usr/local/lib/python3.7/dist-packages (from chart_studio) (4.4.1)\n",
            "Requirement already satisfied: chardet<4,>=3.0.2 in /usr/local/lib/python3.7/dist-packages (from requests->chart_studio) (3.0.4)\n",
            "Requirement already satisfied: idna<3,>=2.5 in /usr/local/lib/python3.7/dist-packages (from requests->chart_studio) (2.10)\n",
            "Requirement already satisfied: urllib3!=1.25.0,!=1.25.1,<1.26,>=1.21.1 in /usr/local/lib/python3.7/dist-packages (from requests->chart_studio) (1.24.3)\n",
            "Requirement already satisfied: certifi>=2017.4.17 in /usr/local/lib/python3.7/dist-packages (from requests->chart_studio) (2020.12.5)\n",
            "Installing collected packages: chart-studio\n",
            "Successfully installed chart-studio-1.1.0\n",
            "Collecting dexplot\n",
            "\u001b[?25l  Downloading https://files.pythonhosted.org/packages/d6/9a/654a5f873b283f9b77a22087c6fd7762551d3fcd725b8fde36c5a11ba894/dexplot-0.1.4-py3-none-any.whl (173kB)\n",
            "\u001b[K     |████████████████████████████████| 174kB 5.1MB/s \n",
            "\u001b[?25hRequirement already satisfied: numpy>=1.15 in /usr/local/lib/python3.7/dist-packages (from dexplot) (1.19.5)\n",
            "Requirement already satisfied: pandas>=0.24 in /usr/local/lib/python3.7/dist-packages (from dexplot) (1.1.5)\n",
            "Requirement already satisfied: scipy>=1.0matplotlib>=3.1 in /usr/local/lib/python3.7/dist-packages (from dexplot) (1.4.1)\n",
            "Requirement already satisfied: pytz>=2017.2 in /usr/local/lib/python3.7/dist-packages (from pandas>=0.24->dexplot) (2018.9)\n",
            "Requirement already satisfied: python-dateutil>=2.7.3 in /usr/local/lib/python3.7/dist-packages (from pandas>=0.24->dexplot) (2.8.1)\n",
            "Requirement already satisfied: six>=1.5 in /usr/local/lib/python3.7/dist-packages (from python-dateutil>=2.7.3->pandas>=0.24->dexplot) (1.15.0)\n",
            "Installing collected packages: dexplot\n",
            "Successfully installed dexplot-0.1.4\n",
            "Requirement already satisfied: statsmodels in /usr/local/lib/python3.7/dist-packages (0.10.2)\n",
            "Requirement already satisfied: patsy>=0.4.0 in /usr/local/lib/python3.7/dist-packages (from statsmodels) (0.5.1)\n",
            "Requirement already satisfied: numpy>=1.11 in /usr/local/lib/python3.7/dist-packages (from statsmodels) (1.19.5)\n",
            "Requirement already satisfied: pandas>=0.19 in /usr/local/lib/python3.7/dist-packages (from statsmodels) (1.1.5)\n",
            "Requirement already satisfied: scipy>=0.18 in /usr/local/lib/python3.7/dist-packages (from statsmodels) (1.4.1)\n",
            "Requirement already satisfied: six in /usr/local/lib/python3.7/dist-packages (from patsy>=0.4.0->statsmodels) (1.15.0)\n",
            "Requirement already satisfied: pytz>=2017.2 in /usr/local/lib/python3.7/dist-packages (from pandas>=0.19->statsmodels) (2018.9)\n",
            "Requirement already satisfied: python-dateutil>=2.7.3 in /usr/local/lib/python3.7/dist-packages (from pandas>=0.19->statsmodels) (2.8.1)\n"
          ],
          "name": "stdout"
        }
      ]
    },
    {
      "cell_type": "code",
      "metadata": {
        "colab": {
          "base_uri": "https://localhost:8080/",
          "height": 419
        },
        "id": "sAS3ekjpTL5K",
        "outputId": "6bc66012-2786-4815-8302-0b51934ca2a1"
      },
      "source": [
        "patients = pd.read_csv(\"/content/demographic_data_codeathon_2021.csv\") #loading data\n",
        "display(patients)"
      ],
      "execution_count": 2,
      "outputs": [
        {
          "output_type": "display_data",
          "data": {
            "text/html": [
              "<div>\n",
              "<style scoped>\n",
              "    .dataframe tbody tr th:only-of-type {\n",
              "        vertical-align: middle;\n",
              "    }\n",
              "\n",
              "    .dataframe tbody tr th {\n",
              "        vertical-align: top;\n",
              "    }\n",
              "\n",
              "    .dataframe thead th {\n",
              "        text-align: right;\n",
              "    }\n",
              "</style>\n",
              "<table border=\"1\" class=\"dataframe\">\n",
              "  <thead>\n",
              "    <tr style=\"text-align: right;\">\n",
              "      <th></th>\n",
              "      <th>Patient Name</th>\n",
              "      <th>Race</th>\n",
              "      <th>Gender</th>\n",
              "      <th>Age</th>\n",
              "      <th>Glaucoma</th>\n",
              "    </tr>\n",
              "  </thead>\n",
              "  <tbody>\n",
              "    <tr>\n",
              "      <th>0</th>\n",
              "      <td>Abudu91553621</td>\n",
              "      <td>Black</td>\n",
              "      <td>Female</td>\n",
              "      <td>47</td>\n",
              "      <td>Yes</td>\n",
              "    </tr>\n",
              "    <tr>\n",
              "      <th>1</th>\n",
              "      <td>Afinowicz73320600</td>\n",
              "      <td>White</td>\n",
              "      <td>Male</td>\n",
              "      <td>81</td>\n",
              "      <td>Yes</td>\n",
              "    </tr>\n",
              "    <tr>\n",
              "      <th>2</th>\n",
              "      <td>Aguilera71612740</td>\n",
              "      <td>Hispanic</td>\n",
              "      <td>Female</td>\n",
              "      <td>66</td>\n",
              "      <td>Yes</td>\n",
              "    </tr>\n",
              "    <tr>\n",
              "      <th>3</th>\n",
              "      <td>Alavi72502122</td>\n",
              "      <td>East Indian</td>\n",
              "      <td>Female</td>\n",
              "      <td>71</td>\n",
              "      <td>Yes</td>\n",
              "    </tr>\n",
              "    <tr>\n",
              "      <th>4</th>\n",
              "      <td>Alban7034</td>\n",
              "      <td>White</td>\n",
              "      <td>Female</td>\n",
              "      <td>85</td>\n",
              "      <td>Yes</td>\n",
              "    </tr>\n",
              "    <tr>\n",
              "      <th>...</th>\n",
              "      <td>...</td>\n",
              "      <td>...</td>\n",
              "      <td>...</td>\n",
              "      <td>...</td>\n",
              "      <td>...</td>\n",
              "    </tr>\n",
              "    <tr>\n",
              "      <th>72</th>\n",
              "      <td>Baker73079381</td>\n",
              "      <td>Black</td>\n",
              "      <td>Male</td>\n",
              "      <td>37</td>\n",
              "      <td>No</td>\n",
              "    </tr>\n",
              "    <tr>\n",
              "      <th>73</th>\n",
              "      <td>Baldwin71959320</td>\n",
              "      <td>Black</td>\n",
              "      <td>Female</td>\n",
              "      <td>70</td>\n",
              "      <td>No</td>\n",
              "    </tr>\n",
              "    <tr>\n",
              "      <th>74</th>\n",
              "      <td>Baldwin91863764</td>\n",
              "      <td>White</td>\n",
              "      <td>Male</td>\n",
              "      <td>69</td>\n",
              "      <td>No</td>\n",
              "    </tr>\n",
              "    <tr>\n",
              "      <th>75</th>\n",
              "      <td>Ballard70350612</td>\n",
              "      <td>White</td>\n",
              "      <td>Female</td>\n",
              "      <td>84</td>\n",
              "      <td>No</td>\n",
              "    </tr>\n",
              "    <tr>\n",
              "      <th>76</th>\n",
              "      <td>Ballard93462456</td>\n",
              "      <td>White</td>\n",
              "      <td>Male</td>\n",
              "      <td>51</td>\n",
              "      <td>No</td>\n",
              "    </tr>\n",
              "  </tbody>\n",
              "</table>\n",
              "<p>77 rows × 5 columns</p>\n",
              "</div>"
            ],
            "text/plain": [
              "         Patient Name         Race  Gender  Age Glaucoma\n",
              "0       Abudu91553621        Black  Female   47      Yes\n",
              "1   Afinowicz73320600       White     Male   81      Yes\n",
              "2    Aguilera71612740     Hispanic  Female   66      Yes\n",
              "3       Alavi72502122  East Indian  Female   71      Yes\n",
              "4           Alban7034       White   Female   85      Yes\n",
              "..                ...          ...     ...  ...      ...\n",
              "72      Baker73079381        Black    Male   37       No\n",
              "73    Baldwin71959320        Black  Female   70       No\n",
              "74    Baldwin91863764       White     Male   69       No\n",
              "75    Ballard70350612       White   Female   84       No\n",
              "76    Ballard93462456       White     Male   51       No\n",
              "\n",
              "[77 rows x 5 columns]"
            ]
          },
          "metadata": {
            "tags": []
          }
        }
      ]
    },
    {
      "cell_type": "markdown",
      "metadata": {
        "id": "HTXl7PL5UMoB"
      },
      "source": [
        "## Categorical Correlation"
      ]
    },
    {
      "cell_type": "markdown",
      "metadata": {
        "id": "A5zqtCk2Tgxl"
      },
      "source": [
        "For initial visualization with categorical data, we will create a correlation heatmap using the associations function in the dython library.\n"
      ]
    },
    {
      "cell_type": "code",
      "metadata": {
        "colab": {
          "base_uri": "https://localhost:8080/",
          "height": 374
        },
        "id": "22k6dwXGT-y6",
        "outputId": "252c73f3-9286-4352-c934-d351f0555f87"
      },
      "source": [
        "heatmap = pd.DataFrame(patients)\n",
        "# Remove name column as it is independent from glaucoma status and will not be useful for the heatmap.\n",
        "heatmap = heatmap.drop(['Patient Name'], axis = 1)\n",
        "nominal.associations(heatmap, nominal_columns=['Race','Gender', 'Glaucoma'])"
      ],
      "execution_count": 3,
      "outputs": [
        {
          "output_type": "display_data",
          "data": {
            "image/png": "[encoded data removed]",
            "text/plain": [
              "<Figure size 432x288 with 2 Axes>"
            ]
          },
          "metadata": {
            "tags": [],
            "needs_background": "light"
          }
        },
        {
          "output_type": "execute_result",
          "data": {
            "text/plain": [
              "{'ax': <matplotlib.axes._subplots.AxesSubplot at 0x7fdd78433910>,\n",
              " 'corr':               Race    Gender       Age  Glaucoma\n",
              " Race      1.000000  0.221473  0.356530  0.000000\n",
              " Gender    0.221473  1.000000  0.009238  0.060633\n",
              " Age       0.356530  0.009238  1.000000  0.246720\n",
              " Glaucoma  0.000000  0.060633  0.246720  1.000000}"
            ]
          },
          "metadata": {
            "tags": []
          },
          "execution_count": 3
        }
      ]
    },
    {
      "cell_type": "markdown",
      "metadata": {
        "id": "IxL2ZO-RUuDj"
      },
      "source": [
        "## Exploratory Data Analysis\n"
      ]
    },
    {
      "cell_type": "markdown",
      "metadata": {
        "id": "PcSsBkTgViMJ"
      },
      "source": [
        "### Initial Analysis\n",
        "First, let us obtain patient counts for glaucoma/normal, by race, gender, and age."
      ]
    },
    {
      "cell_type": "code",
      "metadata": {
        "colab": {
          "base_uri": "https://localhost:8080/",
          "height": 289
        },
        "id": "7rRfzLA9Uvps",
        "outputId": "9ee9fa5e-ae73-42fb-dd3d-2ce100b54a31"
      },
      "source": [
        "sns.boxplot(x='Glaucoma', y='Age', data=patients, palette=\"mako\");"
      ],
      "execution_count": 27,
      "outputs": [
        {
          "output_type": "display_data",
          "data": {
            "image/png": "[encoded data removed]",
            "text/plain": [
              "<Figure size 432x288 with 1 Axes>"
            ]
          },
          "metadata": {
            "tags": []
          }
        }
      ]
    },
    {
      "cell_type": "code",
      "metadata": {
        "colab": {
          "base_uri": "https://localhost:8080/",
          "height": 111
        },
        "id": "u3aj2J-zeHNJ",
        "outputId": "84c5cc14-fdef-4c05-bdfd-558e1ccf15bb"
      },
      "source": [
        "ge = patients.loc[(patients['Glaucoma'] == \"Yes\")]\n",
        "he = patients.loc[(patients['Glaucoma'] == \"No\")]\n",
        "quartiles = percentile(ge['Age'], [25, 50, 75])\n",
        "five_num_summary = pd.DataFrame(columns=['Glaucoma', 'Minimum Age', 'Q1', 'Median', 'Q3', 'Maximum Age'])\n",
        "ge = {'Glaucoma': \"Yes\", 'Minimum Age': ge['Age'].min(), 'Q1': quartiles[0], 'Median': quartiles[1], 'Q3':quartiles[2],'Maximum Age': ge['Age'].max()}\n",
        "five_num_summary = five_num_summary.append(ge, ignore_index=True)\n",
        "quartiles = percentile(he['Age'], [25, 50, 75])\n",
        "he = {'Glaucoma': \"No\", 'Minimum Age': he['Age'].min(), 'Q1': quartiles[0], 'Median': quartiles[1], 'Q3':quartiles[2],'Maximum Age': he['Age'].max()}\n",
        "five_num_summary = five_num_summary.append(he, ignore_index=True)\n",
        "display(five_num_summary)"
      ],
      "execution_count": 5,
      "outputs": [
        {
          "output_type": "display_data",
          "data": {
            "text/html": [
              "<div>\n",
              "<style scoped>\n",
              "    .dataframe tbody tr th:only-of-type {\n",
              "        vertical-align: middle;\n",
              "    }\n",
              "\n",
              "    .dataframe tbody tr th {\n",
              "        vertical-align: top;\n",
              "    }\n",
              "\n",
              "    .dataframe thead th {\n",
              "        text-align: right;\n",
              "    }\n",
              "</style>\n",
              "<table border=\"1\" class=\"dataframe\">\n",
              "  <thead>\n",
              "    <tr style=\"text-align: right;\">\n",
              "      <th></th>\n",
              "      <th>Glaucoma</th>\n",
              "      <th>Minimum Age</th>\n",
              "      <th>Q1</th>\n",
              "      <th>Median</th>\n",
              "      <th>Q3</th>\n",
              "      <th>Maximum Age</th>\n",
              "    </tr>\n",
              "  </thead>\n",
              "  <tbody>\n",
              "    <tr>\n",
              "      <th>0</th>\n",
              "      <td>Yes</td>\n",
              "      <td>32</td>\n",
              "      <td>63.5</td>\n",
              "      <td>70.0</td>\n",
              "      <td>74.0</td>\n",
              "      <td>85</td>\n",
              "    </tr>\n",
              "    <tr>\n",
              "      <th>1</th>\n",
              "      <td>No</td>\n",
              "      <td>27</td>\n",
              "      <td>48.5</td>\n",
              "      <td>63.0</td>\n",
              "      <td>69.0</td>\n",
              "      <td>87</td>\n",
              "    </tr>\n",
              "  </tbody>\n",
              "</table>\n",
              "</div>"
            ],
            "text/plain": [
              "  Glaucoma Minimum Age    Q1  Median    Q3 Maximum Age\n",
              "0      Yes          32  63.5    70.0  74.0          85\n",
              "1       No          27  48.5    63.0  69.0          87"
            ]
          },
          "metadata": {
            "tags": []
          }
        }
      ]
    },
    {
      "cell_type": "markdown",
      "metadata": {
        "id": "AfNe0wbDVnoK"
      },
      "source": [
        "Appears that the average age of those diagnosed with glaucoma is higher than those with normal OCTA scans."
      ]
    },
    {
      "cell_type": "code",
      "metadata": {
        "colab": {
          "base_uri": "https://localhost:8080/",
          "height": 399
        },
        "id": "nsVUWf5eXSZm",
        "outputId": "a3d0d17c-5854-41e4-e3f2-06e4e2cdc1b8"
      },
      "source": [
        "sns.catplot(x=\"Race\", data=patients, hue = \"Glaucoma\", kind = \"count\", palette=\"mako\")"
      ],
      "execution_count": 28,
      "outputs": [
        {
          "output_type": "execute_result",
          "data": {
            "text/plain": [
              "<seaborn.axisgrid.FacetGrid at 0x7fdd5f02be50>"
            ]
          },
          "metadata": {
            "tags": []
          },
          "execution_count": 28
        },
        {
          "output_type": "display_data",
          "data": {
            "image/png": "[encoded data removed]",
            "text/plain": [
              "<Figure size 429.55x360 with 1 Axes>"
            ]
          },
          "metadata": {
            "tags": []
          }
        }
      ]
    },
    {
      "cell_type": "markdown",
      "metadata": {
        "id": "K7p_kXmfelJ1"
      },
      "source": [
        "Arranged in descending order of counts."
      ]
    },
    {
      "cell_type": "code",
      "metadata": {
        "colab": {
          "base_uri": "https://localhost:8080/",
          "height": 365
        },
        "id": "dFCaHkFQWwls",
        "outputId": "abeb2697-ecc0-47b7-b67c-423ac9b2dd01"
      },
      "source": [
        "sns.set_theme(color_codes=True)\n",
        "sns.displot(patients, x='Age', col = 'Race', binwidth = 10, palette = \"mako\") "
      ],
      "execution_count": 30,
      "outputs": [
        {
          "output_type": "execute_result",
          "data": {
            "text/plain": [
              "<seaborn.axisgrid.FacetGrid at 0x7fdd688c8210>"
            ]
          },
          "metadata": {
            "tags": []
          },
          "execution_count": 30
        },
        {
          "output_type": "display_data",
          "data": {
            "image/png": "[encoded data removed]",
            "text/plain": [
              "<Figure size 1800x360 with 5 Axes>"
            ]
          },
          "metadata": {
            "tags": []
          }
        }
      ]
    },
    {
      "cell_type": "code",
      "metadata": {
        "colab": {
          "base_uri": "https://localhost:8080/",
          "height": 173
        },
        "id": "-QECIYIsYXpW",
        "outputId": "fc6fc702-667d-472d-c400-8e66f0b22c64"
      },
      "source": [
        "# calculate a 5-number summary \n",
        "# Only Looking at Black, White, Hispanic patients\n",
        "black = patients.loc[(patients['Race'] == \"Black\")]\n",
        "white = patients.loc[(patients['Race'] == \"White \")]\n",
        "hispanic = patients.loc[(patients['Race'] == \"Hispanic\")]\n",
        "eastindian = patients.loc[(patients['Race'] == \"East Indian\")]\n",
        "quartiles = percentile(black['Age'], [25, 50, 75])\n",
        "five_num_summary = pd.DataFrame(columns=['Race', 'Minimum Age', 'Q1', 'Median', 'Q3', 'Maximum Age'])\n",
        "black = {'Race': \"Black\", 'Minimum Age': black['Age'].min(), 'Q1': quartiles[0], 'Median': quartiles[1], 'Q3':quartiles[2],'Maximum Age': black['Age'].max()}\n",
        "five_num_summary = five_num_summary.append(black, ignore_index=True)\n",
        "quartiles = percentile(hispanic['Age'], [25, 50, 75])\n",
        "hispanic = {'Race': \"Hispanic\", 'Minimum Age': hispanic['Age'].min(), 'Q1': quartiles[0], 'Median': quartiles[1], 'Q3':quartiles[2],'Maximum Age': hispanic['Age'].max()}\n",
        "five_num_summary = five_num_summary.append(hispanic, ignore_index=True)\n",
        "quartiles = percentile(eastindian['Age'], [25, 50, 75])\n",
        "eastindian = {'Race': \"East Indian\", 'Minimum Age': eastindian['Age'].min(), 'Q1': quartiles[0], 'Median': quartiles[1], 'Q3':quartiles[2],'Maximum Age': eastindian['Age'].max()}\n",
        "five_num_summary= five_num_summary.append(eastindian, ignore_index=True)\n",
        "\n",
        "quartiles = percentile(white['Age'], [25, 50, 75])\n",
        "white = {'Race': \"White\", 'Minimum Age': white['Age'].min(), 'Q1': quartiles[0], 'Median': quartiles[1], 'Q3':quartiles[2],'Maximum Age': white['Age'].max()}\n",
        "five_num_summary = five_num_summary.append(white, ignore_index=True)\n",
        "\n",
        "display(five_num_summary)"
      ],
      "execution_count": 8,
      "outputs": [
        {
          "output_type": "display_data",
          "data": {
            "text/html": [
              "<div>\n",
              "<style scoped>\n",
              "    .dataframe tbody tr th:only-of-type {\n",
              "        vertical-align: middle;\n",
              "    }\n",
              "\n",
              "    .dataframe tbody tr th {\n",
              "        vertical-align: top;\n",
              "    }\n",
              "\n",
              "    .dataframe thead th {\n",
              "        text-align: right;\n",
              "    }\n",
              "</style>\n",
              "<table border=\"1\" class=\"dataframe\">\n",
              "  <thead>\n",
              "    <tr style=\"text-align: right;\">\n",
              "      <th></th>\n",
              "      <th>Race</th>\n",
              "      <th>Minimum Age</th>\n",
              "      <th>Q1</th>\n",
              "      <th>Median</th>\n",
              "      <th>Q3</th>\n",
              "      <th>Maximum Age</th>\n",
              "    </tr>\n",
              "  </thead>\n",
              "  <tbody>\n",
              "    <tr>\n",
              "      <th>0</th>\n",
              "      <td>Black</td>\n",
              "      <td>33</td>\n",
              "      <td>46.25</td>\n",
              "      <td>59.0</td>\n",
              "      <td>68.75</td>\n",
              "      <td>80</td>\n",
              "    </tr>\n",
              "    <tr>\n",
              "      <th>1</th>\n",
              "      <td>Hispanic</td>\n",
              "      <td>30</td>\n",
              "      <td>63.00</td>\n",
              "      <td>66.0</td>\n",
              "      <td>68.00</td>\n",
              "      <td>78</td>\n",
              "    </tr>\n",
              "    <tr>\n",
              "      <th>2</th>\n",
              "      <td>East Indian</td>\n",
              "      <td>27</td>\n",
              "      <td>46.00</td>\n",
              "      <td>56.0</td>\n",
              "      <td>71.00</td>\n",
              "      <td>82</td>\n",
              "    </tr>\n",
              "    <tr>\n",
              "      <th>3</th>\n",
              "      <td>White</td>\n",
              "      <td>32</td>\n",
              "      <td>62.75</td>\n",
              "      <td>69.0</td>\n",
              "      <td>76.50</td>\n",
              "      <td>87</td>\n",
              "    </tr>\n",
              "  </tbody>\n",
              "</table>\n",
              "</div>"
            ],
            "text/plain": [
              "          Race Minimum Age     Q1  Median     Q3 Maximum Age\n",
              "0        Black          33  46.25    59.0  68.75          80\n",
              "1     Hispanic          30  63.00    66.0  68.00          78\n",
              "2  East Indian          27  46.00    56.0  71.00          82\n",
              "3        White          32  62.75    69.0  76.50          87"
            ]
          },
          "metadata": {
            "tags": []
          }
        }
      ]
    },
    {
      "cell_type": "code",
      "metadata": {
        "colab": {
          "base_uri": "https://localhost:8080/",
          "height": 274
        },
        "id": "LI40UzK7csau",
        "outputId": "86f34451-d2b6-4670-b90c-06cf5d75659f"
      },
      "source": [
        "g = sns.FacetGrid(patients, col='Glaucoma', hue='Race', margin_titles=True, height=3.5, aspect=.8)\n",
        "g.map(sns.distplot,'Age', hist = False, kde_kws=dict(alpha=0.6), bins = 8)\n",
        "g.add_legend()  \n"
      ],
      "execution_count": 9,
      "outputs": [
        {
          "output_type": "execute_result",
          "data": {
            "text/plain": [
              "<seaborn.axisgrid.FacetGrid at 0x7fdd5fb64e50>"
            ]
          },
          "metadata": {
            "tags": []
          },
          "execution_count": 9
        },
        {
          "output_type": "display_data",
          "data": {
            "image/png": "[encoded data removed]",
            "text/plain": [
              "<Figure size 504.3x252 with 2 Axes>"
            ]
          },
          "metadata": {
            "tags": []
          }
        }
      ]
    },
    {
      "cell_type": "code",
      "metadata": {
        "id": "pDH7n2KEgU-l"
      },
      "source": [
        "patientsclean = patients\n",
        "patientsclean['Race'].replace('Black', 0,inplace=True)\n",
        "patientsclean['Race'].replace('Hispanic', 1,inplace=True)\n",
        "patientsclean['Race'].replace('East Indian', 2,inplace=True)\n",
        "patientsclean['Race'].replace('Asian', 3,inplace=True)\n",
        "patientsclean['Race'].replace('White ', 4,inplace=True)\n"
      ],
      "execution_count": 10,
      "outputs": []
    },
    {
      "cell_type": "code",
      "metadata": {
        "colab": {
          "base_uri": "https://localhost:8080/",
          "height": 399
        },
        "id": "iurH3M-jf1bf",
        "outputId": "e3b48ee1-59df-4949-ece6-5b53a130bb3b"
      },
      "source": [
        "sns.catplot(x=\"Gender\", data=patients, hue = \"Glaucoma\", kind = \"count\", palette = )"
      ],
      "execution_count": 26,
      "outputs": [
        {
          "output_type": "execute_result",
          "data": {
            "text/plain": [
              "<seaborn.axisgrid.FacetGrid at 0x7fdd5f55c4d0>"
            ]
          },
          "metadata": {
            "tags": []
          },
          "execution_count": 26
        },
        {
          "output_type": "display_data",
          "data": {
            "image/png": "[encoded data removed]",
            "text/plain": [
              "<Figure size 429.55x360 with 1 Axes>"
            ]
          },
          "metadata": {
            "tags": []
          }
        }
      ]
    },
    {
      "cell_type": "markdown",
      "metadata": {
        "id": "j-JYN35vXIoI"
      },
      "source": [
        "Clearly, far more female patients overall. Might have to augment male data in dataset by flipping, zooming on images as discussed.\n"
      ]
    },
    {
      "cell_type": "code",
      "metadata": {
        "colab": {
          "base_uri": "https://localhost:8080/",
          "height": 399
        },
        "id": "4fXQQPIUiTPR",
        "outputId": "904b1464-00b1-431c-c54e-1dca5494c06b"
      },
      "source": [
        "patients = pd.read_csv(\"/content/demographic_data_codeathon_2021.csv\") #loading data\n",
        "sns.catplot(x=\"Gender\", data=patients, hue = \"Race\", kind = \"count\")"
      ],
      "execution_count": 12,
      "outputs": [
        {
          "output_type": "execute_result",
          "data": {
            "text/plain": [
              "<seaborn.axisgrid.FacetGrid at 0x7fdd5f76ed10>"
            ]
          },
          "metadata": {
            "tags": []
          },
          "execution_count": 12
        },
        {
          "output_type": "display_data",
          "data": {
            "image/png": "[encoded data removed]",
            "text/plain": [
              "<Figure size 461.1x360 with 1 Axes>"
            ]
          },
          "metadata": {
            "tags": []
          }
        }
      ]
    },
    {
      "cell_type": "code",
      "metadata": {
        "colab": {
          "base_uri": "https://localhost:8080/"
        },
        "id": "01NZhRDHjm12",
        "outputId": "ddb4cc98-ecce-48de-c1dd-251fb56c53da"
      },
      "source": [
        "def cramers_corrected_stat(confusion_matrix):\n",
        "    \"\"\" calculate Cramers V statistic for categorial-categorial association.\n",
        "        uses correction from Bergsma and Wicher, \n",
        "        Journal of the Korean Statistical Society 42 (2013): 323-328\n",
        "    \"\"\"\n",
        "    chi2 = chi2_contingency(confusion_matrix)[0]\n",
        "    n = confusion_matrix.sum().sum() \n",
        "    phi2 = chi2/n\n",
        "    r,k = confusion_matrix.shape\n",
        "    phi2corr = max(0, phi2 - ((k-1)*(r-1))/(n-1))    \n",
        "    rcorr = r - ((r-1)**2)/(n-1)\n",
        "    kcorr = k - ((k-1)**2)/(n-1)\n",
        "    return np.sqrt(phi2corr / min( (kcorr-1), (rcorr-1)))\n",
        "# https://stackoverflow.com/questions/20892799/using-pandas-calculate-cram%C3%A9rs-coefficient-matrix\n",
        "patientsclean['Gender'].replace('Female', 0,inplace=True)\n",
        "patientsclean['Gender'].replace('Male', 1,inplace=True)\n",
        "confusion_matrix = pd.crosstab(patientsclean['Gender'], patients['Race']) \n",
        "cramers_corrected_stat(confusion_matrix) "
      ],
      "execution_count": 13,
      "outputs": [
        {
          "output_type": "execute_result",
          "data": {
            "text/plain": [
              "0.22147318753080167"
            ]
          },
          "metadata": {
            "tags": []
          },
          "execution_count": 13
        }
      ]
    },
    {
      "cell_type": "markdown",
      "metadata": {
        "id": "83l7IGWikERC"
      },
      "source": [
        "With Cramer's V, seems to have a significant association between Gender and Race."
      ]
    },
    {
      "cell_type": "code",
      "metadata": {
        "colab": {
          "base_uri": "https://localhost:8080/"
        },
        "id": "BCWccHoTkaWL",
        "outputId": "46bbd245-4d90-45d5-86fd-04c607b535f1"
      },
      "source": [
        "patientsclean['Glaucoma'].replace('No', 0,inplace=True)\n",
        "patientsclean['Glaucoma'].replace('Yes', 1,inplace=True)\n",
        "confusion_matrix = pd.crosstab(patientsclean['Gender'], patientsclean['Glaucoma']) \n",
        "cramers_corrected_stat(confusion_matrix) "
      ],
      "execution_count": 14,
      "outputs": [
        {
          "output_type": "execute_result",
          "data": {
            "text/plain": [
              "0.06063305608340936"
            ]
          },
          "metadata": {
            "tags": []
          },
          "execution_count": 14
        }
      ]
    },
    {
      "cell_type": "markdown",
      "metadata": {
        "id": "_o9S4sbMlJwB"
      },
      "source": [
        "Not a strong association with gender and glaucoma with nominal association computation."
      ]
    },
    {
      "cell_type": "code",
      "metadata": {
        "colab": {
          "base_uri": "https://localhost:8080/",
          "height": 289
        },
        "id": "pJoWuUzAm8R0",
        "outputId": "fec465df-2341-4717-cfb1-cf2c1fd23520"
      },
      "source": [
        "sns.boxplot(x='Gender', y='Age', data=patients);"
      ],
      "execution_count": 15,
      "outputs": [
        {
          "output_type": "display_data",
          "data": {
            "image/png": "[encoded data removed]",
            "text/plain": [
              "<Figure size 432x288 with 1 Axes>"
            ]
          },
          "metadata": {
            "tags": []
          }
        }
      ]
    },
    {
      "cell_type": "code",
      "metadata": {
        "colab": {
          "base_uri": "https://localhost:8080/",
          "height": 111
        },
        "id": "V1qZYj6hmnZK",
        "outputId": "02dc0b0e-9165-4de4-d407-37c0785e11c4"
      },
      "source": [
        "f = patients.loc[(patients['Gender'] == \"Female\")]\n",
        "m = patients.loc[(patients['Gender'] == \"Male\")]\n",
        "quartiles = percentile(f['Age'], [25, 50, 75])\n",
        "five_num_summary = pd.DataFrame(columns=['Gender', 'Minimum Age', 'Q1', 'Median', 'Q3', 'Maximum Age'])\n",
        "f = {'Gender': \"Female\", 'Minimum Age': f['Age'].min(), 'Q1': quartiles[0], 'Median': quartiles[1], 'Q3':quartiles[2],'Maximum Age': f['Age'].max()}\n",
        "five_num_summary = five_num_summary.append(f, ignore_index=True)\n",
        "quartiles = percentile(m['Age'], [25, 50, 75])\n",
        "m = {'Gender': \"Male\", 'Minimum Age': m['Age'].min(), 'Q1': quartiles[0], 'Median': quartiles[1], 'Q3':quartiles[2],'Maximum Age': m['Age'].max()}\n",
        "five_num_summary = five_num_summary.append(m, ignore_index=True)\n",
        "display(five_num_summary)"
      ],
      "execution_count": 16,
      "outputs": [
        {
          "output_type": "display_data",
          "data": {
            "text/html": [
              "<div>\n",
              "<style scoped>\n",
              "    .dataframe tbody tr th:only-of-type {\n",
              "        vertical-align: middle;\n",
              "    }\n",
              "\n",
              "    .dataframe tbody tr th {\n",
              "        vertical-align: top;\n",
              "    }\n",
              "\n",
              "    .dataframe thead th {\n",
              "        text-align: right;\n",
              "    }\n",
              "</style>\n",
              "<table border=\"1\" class=\"dataframe\">\n",
              "  <thead>\n",
              "    <tr style=\"text-align: right;\">\n",
              "      <th></th>\n",
              "      <th>Gender</th>\n",
              "      <th>Minimum Age</th>\n",
              "      <th>Q1</th>\n",
              "      <th>Median</th>\n",
              "      <th>Q3</th>\n",
              "      <th>Maximum Age</th>\n",
              "    </tr>\n",
              "  </thead>\n",
              "  <tbody>\n",
              "    <tr>\n",
              "      <th>0</th>\n",
              "      <td>Female</td>\n",
              "      <td>27</td>\n",
              "      <td>49.0</td>\n",
              "      <td>64.0</td>\n",
              "      <td>71.00</td>\n",
              "      <td>87</td>\n",
              "    </tr>\n",
              "    <tr>\n",
              "      <th>1</th>\n",
              "      <td>Male</td>\n",
              "      <td>32</td>\n",
              "      <td>54.5</td>\n",
              "      <td>64.5</td>\n",
              "      <td>69.75</td>\n",
              "      <td>81</td>\n",
              "    </tr>\n",
              "  </tbody>\n",
              "</table>\n",
              "</div>"
            ],
            "text/plain": [
              "   Gender Minimum Age    Q1  Median     Q3 Maximum Age\n",
              "0  Female          27  49.0    64.0  71.00          87\n",
              "1    Male          32  54.5    64.5  69.75          81"
            ]
          },
          "metadata": {
            "tags": []
          }
        }
      ]
    },
    {
      "cell_type": "code",
      "metadata": {
        "colab": {
          "base_uri": "https://localhost:8080/",
          "height": 741
        },
        "id": "MeqQSFcRnc4E",
        "outputId": "17e10e2b-7d2c-4b5f-db13-eb998c8099b4"
      },
      "source": [
        "patientsclean = patients\n",
        "patientsclean = pd.concat([patientsclean,pd.get_dummies(patientsclean['Race'], prefix='Race')],axis=1)\n",
        "patientsclean = pd.concat([patientsclean,pd.get_dummies(patientsclean['Gender'], prefix='Gender')],axis=1)\n",
        "patientsclean['Glaucoma'].replace('No', 0,inplace=True)\n",
        "patientsclean['Glaucoma'].replace('Yes', 1,inplace=True)\n",
        "del patientsclean['Race']\n",
        "del patientsclean['Age']\n",
        "del patientsclean['Gender']\n",
        "\n",
        "plt.figure(figsize=(8, 12))\n",
        "heatmap = sns.heatmap(patientsclean.corr()[['Glaucoma']].sort_values(by='Glaucoma', ascending=False), vmin=-1, vmax=1, annot=True)\n",
        "heatmap.set_title('Features Correlating with Glaucoma Diagnosis', fontdict={'fontsize':10}, pad=30);\n"
      ],
      "execution_count": 17,
      "outputs": [
        {
          "output_type": "display_data",
          "data": {
            "image/png": "[encoded data removed]",
            "text/plain": [
              "<Figure size 576x864 with 2 Axes>"
            ]
          },
          "metadata": {
            "tags": []
          }
        }
      ]
    },
    {
      "cell_type": "markdown",
      "metadata": {
        "id": "J38G2Pqn4No5"
      },
      "source": [
        "These features will most likely result in overfitting, decided against logistic regression."
      ]
    },
    {
      "cell_type": "code",
      "metadata": {
        "colab": {
          "base_uri": "https://localhost:8080/"
        },
        "id": "tEFk3Jo5_xVg",
        "outputId": "da77d02a-b5b6-412c-bbf7-4bf2deb03a47"
      },
      "source": [
        "patientsclean = patients\n",
        "patientsclean['Glaucoma'].replace('No', 0,inplace=True)\n",
        "patientsclean['Glaucoma'].replace('Yes', 1,inplace=True)\n",
        "\n",
        "stats.pointbiserialr(patientsclean['Age'], patientsclean['Glaucoma']) # Continuous and binary"
      ],
      "execution_count": 18,
      "outputs": [
        {
          "output_type": "execute_result",
          "data": {
            "text/plain": [
              "PointbiserialrResult(correlation=0.24671995412899853, pvalue=0.030532990290303718)"
            ]
          },
          "metadata": {
            "tags": []
          },
          "execution_count": 18
        }
      ]
    },
    {
      "cell_type": "code",
      "metadata": {
        "colab": {
          "base_uri": "https://localhost:8080/"
        },
        "id": "MrKYUhAHAeeG",
        "outputId": "0f127e02-2b98-4267-aa07-18ec714691d2"
      },
      "source": [
        "patients['Gender'].replace('Female', 0,inplace=True)\n",
        "patients['Gender'].replace('Male', 1,inplace=True)\n",
        "patients['Glaucoma'].replace('No', 0,inplace=True)\n",
        "patients['Glaucoma'].replace('Yes', 1,inplace=True)\n",
        "\n",
        "stats.pointbiserialr(patients['Age'], patients['Gender']) # Continuous and binary"
      ],
      "execution_count": 19,
      "outputs": [
        {
          "output_type": "execute_result",
          "data": {
            "text/plain": [
              "PointbiserialrResult(correlation=0.009237811404323972, pvalue=0.9364462120348986)"
            ]
          },
          "metadata": {
            "tags": []
          },
          "execution_count": 19
        }
      ]
    },
    {
      "cell_type": "markdown",
      "metadata": {
        "id": "_HAUjUtlAw1P"
      },
      "source": [
        "Looks like there isn't a strong point biserial correlation coefficient between age and glaucoma status, but there is one between age and gender."
      ]
    },
    {
      "cell_type": "markdown",
      "metadata": {
        "id": "z7H_puhBCY-g"
      },
      "source": [
        "What if we considered age groups instead?\n"
      ]
    },
    {
      "cell_type": "code",
      "metadata": {
        "colab": {
          "base_uri": "https://localhost:8080/",
          "height": 285
        },
        "id": "ZtDgC1vACYiV",
        "outputId": "6a6b7865-9c14-4394-db27-fbab6b7cd6a8"
      },
      "source": [
        "patients['Age Groups'] = pd.cut(patients['Age'], range(20, 91, 10), right=True, labels=['20-30', '31-40', '41-50', '51-60', '61-70', '71-80', '81-90'])\n",
        "ax = sns.barplot(x=\"Gender\", y=\"Glaucoma\", data=patients, palette=\"mako\")\n",
        "ax.set(xlabel='Gender', ylabel= '% with Glaucoma')\n",
        "plt.show()"
      ],
      "execution_count": 29,
      "outputs": [
        {
          "output_type": "display_data",
          "data": {
            "image/png": "[encoded data removed]",
            "text/plain": [
              "<Figure size 432x288 with 1 Axes>"
            ]
          },
          "metadata": {
            "tags": []
          }
        }
      ]
    },
    {
      "cell_type": "code",
      "metadata": {
        "colab": {
          "base_uri": "https://localhost:8080/",
          "height": 399
        },
        "id": "S9B9pWx7Hqaw",
        "outputId": "f51e052d-6fc6-4c54-eeca-8bebf447fbab"
      },
      "source": [
        "sns.catplot(x=\"Age Groups\", data=patients, hue = \"Gender\", kind = \"count\")"
      ],
      "execution_count": 21,
      "outputs": [
        {
          "output_type": "execute_result",
          "data": {
            "text/plain": [
              "<seaborn.axisgrid.FacetGrid at 0x7fdd5f62d190>"
            ]
          },
          "metadata": {
            "tags": []
          },
          "execution_count": 21
        },
        {
          "output_type": "display_data",
          "data": {
            "image/png": "[encoded data removed]",
            "text/plain": [
              "<Figure size 413.05x360 with 1 Axes>"
            ]
          },
          "metadata": {
            "tags": []
          }
        }
      ]
    },
    {
      "cell_type": "code",
      "metadata": {
        "colab": {
          "base_uri": "https://localhost:8080/"
        },
        "id": "LhmIyRQrDhr-",
        "outputId": "3e2fff38-dc84-40d4-8bef-c460f3f8b1ad"
      },
      "source": [
        "patients['Age Groups'].replace('20-30', 0,inplace=True)\n",
        "patients['Age Groups'].replace('31-40', 1,inplace=True)\n",
        "patients['Age Groups'].replace('41-50', 2,inplace=True)\n",
        "patients['Age Groups'].replace('51-60', 3,inplace=True)\n",
        "patients['Age Groups'].replace('61-70', 4,inplace=True)\n",
        "patients['Age Groups'].replace('71-80', 5,inplace=True)\n",
        "patients['Age Groups'].replace('81-90', 6,inplace=True)\n",
        "confusion_matrix = pd.crosstab(patients['Age Groups'], patients['Glaucoma']) \n",
        "cramers_corrected_stat(confusion_matrix) "
      ],
      "execution_count": 22,
      "outputs": [
        {
          "output_type": "execute_result",
          "data": {
            "text/plain": [
              "0.1498941159055593"
            ]
          },
          "metadata": {
            "tags": []
          },
          "execution_count": 22
        }
      ]
    },
    {
      "cell_type": "code",
      "metadata": {
        "colab": {
          "base_uri": "https://localhost:8080/"
        },
        "id": "H4JzusvBFxfq",
        "outputId": "83eb7386-a1e6-47c5-b08f-fe61af7766fe"
      },
      "source": [
        "patients['Gender'].replace(0, 'Female',inplace=True)\n",
        "patients['Gender'].replace(1,'Male',inplace=True)\n",
        "confusion_matrix = pd.crosstab(patients['Age Groups'], patients['Gender']) \n",
        "cramers_corrected_stat(confusion_matrix) "
      ],
      "execution_count": 23,
      "outputs": [
        {
          "output_type": "execute_result",
          "data": {
            "text/plain": [
              "0.0"
            ]
          },
          "metadata": {
            "tags": []
          },
          "execution_count": 23
        }
      ]
    },
    {
      "cell_type": "markdown",
      "metadata": {
        "id": "owuyNhWKFPxY"
      },
      "source": [
        "Looks like there is a fairly weak association between age groups and glaucoma diagnosis. Also, there appears to be no Cramer's V association between Age group and gender."
      ]
    },
    {
      "cell_type": "markdown",
      "metadata": {
        "id": "dyFhqOcCI0iY"
      },
      "source": [
        "## Key Takeaways\n",
        "* Developed script to provide 5 number summaries and EDA.\n",
        "* Found that the model using the demographic data alone could result in overfitting/not representative of what is currently known - might be worth augmenting the dataset to account for the skewed distribution.\n",
        "* Considering findings using age groups might be worth considering feature engineering (specifically feature binning of age?)."
      ]
    },
    {
      "cell_type": "markdown",
      "metadata": {
        "id": "RFR99Kg9nRdk"
      },
      "source": [
        "\n",
        "## anova Test\n",
        "In ANOVA, the dependent variable must be a continuous (interval or ratio) level of measurement. The independent variables in ANOVA must be categorical (nominal or ordinal) variables. Like the t-test, ANOVA is also a parametric test and has some assumptions. ANOVA assumes that the data is normally distributed.\n",
        "(Not useful)"
      ]
    },
    {
      "cell_type": "code",
      "metadata": {
        "id": "a5YWNJyY42NV",
        "colab": {
          "base_uri": "https://localhost:8080/"
        },
        "outputId": "227c53d7-6879-4960-913e-2517de41abf2"
      },
      "source": [
        "anova = ols('Glaucoma ~ Race + Gender + Age', data=patients).fit() #Glaucoma as dependent\n",
        "print(sm.stats.anova_lm(anova))\n"
      ],
      "execution_count": 24,
      "outputs": [
        {
          "output_type": "stream",
          "text": [
            "            df     sum_sq   mean_sq         F    PR(>F)\n",
            "Race       4.0   0.427073  0.106768  0.611633  0.655634\n",
            "Gender     1.0   0.465852  0.465852  2.668683  0.106831\n",
            "Age        1.0   1.199392  1.199392  6.870849  0.010739\n",
            "Residual  70.0  12.219371  0.174562       NaN       NaN\n"
          ],
          "name": "stdout"
        }
      ]
    },
    {
      "cell_type": "markdown",
      "metadata": {
        "id": "u0W2Em_R6mme"
      },
      "source": [
        ""
      ]
    }
  ]
}